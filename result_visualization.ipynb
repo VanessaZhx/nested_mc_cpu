{
 "cells": [
  {
   "cell_type": "code",
   "execution_count": 56,
   "id": "8c679b18",
   "metadata": {},
   "outputs": [
    {
     "data": {
      "image/png": "[encoded data removed]",
      "text/plain": [
       "<Figure size 432x288 with 1 Axes>"
      ]
     },
     "metadata": {
      "needs_background": "light"
     },
     "output_type": "display_data"
    }
   ],
   "source": [
    "import matplotlib.pyplot as plt\n",
    "import numpy as np\n",
    "import matplotlib\n",
    "def readTxt():\n",
    "    data = []\n",
    "    with open(\"C:/Users/windows/Desktop/res.txt\",\"r\") as f:\n",
    "        for line in f.readlines():\n",
    "            line = line.split()\n",
    "            data.append(line)\n",
    "    #print(data)\n",
    "    return data\n",
    "res = readTxt()[0]\n",
    "res = [ float(x) for x in res ]\n",
    "\n",
    "plt.hist(res, bins=50, facecolor=\"blue\", edgecolor=\"black\", alpha=0.7)\n",
    "plt.show()"
   ]
  },
  {
   "cell_type": "code",
   "execution_count": null,
   "id": "5d241cf7",
   "metadata": {},
   "outputs": [],
   "source": []
  }
 ],
 "metadata": {
  "kernelspec": {
   "display_name": "Python 3 (ipykernel)",
   "language": "python",
   "name": "python3"
  },
  "language_info": {
   "codemirror_mode": {
    "name": "ipython",
    "version": 3
   },
   "file_extension": ".py",
   "mimetype": "text/x-python",
   "name": "python",
   "nbconvert_exporter": "python",
   "pygments_lexer": "ipython3",
   "version": "3.8.8"
  }
 },
 "nbformat": 4,
 "nbformat_minor": 5
}
